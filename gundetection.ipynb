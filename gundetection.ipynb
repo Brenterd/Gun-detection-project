{
 "cells": [
  {
   "cell_type": "code",
   "execution_count": 15,
   "id": "33a55824",
   "metadata": {},
   "outputs": [],
   "source": [
    "import numpy as np\n",
    "import cv2\n",
    "import imutils\n",
    "import datetime"
   ]
  },
  {
   "cell_type": "code",
   "execution_count": 18,
   "id": "1afb88e8",
   "metadata": {},
   "outputs": [
    {
     "name": "stdout",
     "output_type": "stream",
     "text": [
      "Guns detected\n"
     ]
    }
   ],
   "source": [
    "import cv2\n",
    "import imutils\n",
    "\n",
    "gun_cascade = cv2.CascadeClassifier('cascade.xml')\n",
    "camera = cv2.VideoCapture(0)\n",
    "\n",
    "gun_exist = False  # Move this outside the loop\n",
    "\n",
    "while True:\n",
    "    ret, frame = camera.read()\n",
    "    if not ret:\n",
    "        print(\"Failed to grab frame\")\n",
    "        break  # Exit the loop if frame capture fails\n",
    "\n",
    "    frame = imutils.resize(frame, width=1200)\n",
    "    gray = cv2.cvtColor(frame, cv2.COLOR_BGR2GRAY)\n",
    "    \n",
    "    gun = gun_cascade.detectMultiScale(gray, 1.8, 5, minSize=(550 ,450))\n",
    "    \n",
    "    if len(gun) > 0:\n",
    "        gun_exist = True  # Set to True if any guns are detected\n",
    "        for (x, y, w, h) in gun:\n",
    "            frame = cv2.rectangle(frame, (x, y), (x + w, y + h), (255, 0, 0), 2)\n",
    "            roi_gray = gray[y:y + h, x:x + w]\n",
    "            roi_color = frame[y:y + h, x:x + w]\n",
    "    \n",
    "    cv2.imshow(\"security feed\", frame)\n",
    "    key = cv2.waitKey(1) & 0xFF\n",
    "    if key == ord('q'):\n",
    "        break\n",
    "\n",
    "# Check the overall detection status after the loop\n",
    "if gun_exist:\n",
    "    print(\"Guns detected\")\n",
    "else:\n",
    "    print(\"Guns did not detect\")\n",
    "\n",
    "camera.release()\n",
    "cv2.destroyAllWindows()"
   ]
  },
  {
   "cell_type": "code",
   "execution_count": null,
   "id": "77de6bee",
   "metadata": {},
   "outputs": [],
   "source": [
    "\n"
   ]
  },
  {
   "cell_type": "code",
   "execution_count": null,
   "id": "d62a4ab6",
   "metadata": {},
   "outputs": [],
   "source": []
  },
  {
   "cell_type": "code",
   "execution_count": null,
   "id": "b87a6e65",
   "metadata": {},
   "outputs": [],
   "source": []
  },
  {
   "cell_type": "code",
   "execution_count": null,
   "id": "2742493c",
   "metadata": {},
   "outputs": [],
   "source": []
  }
 ],
 "metadata": {
  "kernelspec": {
   "display_name": "Python 3 (ipykernel)",
   "language": "python",
   "name": "python3"
  },
  "language_info": {
   "codemirror_mode": {
    "name": "ipython",
    "version": 3
   },
   "file_extension": ".py",
   "mimetype": "text/x-python",
   "name": "python",
   "nbconvert_exporter": "python",
   "pygments_lexer": "ipython3",
   "version": "3.11.7"
  }
 },
 "nbformat": 4,
 "nbformat_minor": 5
}
